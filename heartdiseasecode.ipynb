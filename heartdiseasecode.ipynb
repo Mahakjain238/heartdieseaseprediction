{
  "nbformat": 4,
  "nbformat_minor": 0,
  "metadata": {
    "colab": {
      "provenance": []
    },
    "kernelspec": {
      "name": "python3",
      "display_name": "Python 3"
    },
    "language_info": {
      "name": "python"
    }
  },
  "cells": [
    {
      "cell_type": "code",
      "execution_count": 17,
      "metadata": {
        "id": "oQRBr4TIUCN5"
      },
      "outputs": [],
      "source": [
        "import numpy as np # linear algebra\n",
        "import pandas as pd # data processing, CSV file I/O (e.g. pd.read_csv)\n",
        "\n",
        "import sklearn\n",
        "from sklearn.model_selection import train_test_split\n",
        "from sklearn.preprocessing import StandardScaler\n",
        "from sklearn.metrics import accuracy_score\n",
        "\n",
        "\n",
        "# Input data files are available in the read-only \"../input/\" directory\n",
        "# For example, running this (by clicking run or pressing Shift+Enter) will list all files under the input directory\n",
        "\n",
        "import os\n",
        "for dirname, _, filenames in os.walk('/kaggle/input'):\n",
        "    for filename in filenames:\n",
        "        print(os.path.join(dirname, filename))"
      ]
    },
    {
      "cell_type": "code",
      "source": [
        "Data = pd.read_csv(\"/content/heartdataset.csv\")\n",
        "Data.info()"
      ],
      "metadata": {
        "colab": {
          "base_uri": "https://localhost:8080/"
        },
        "id": "eIXEUJZ9ULAp",
        "outputId": "ce11f3a5-e4ec-48af-fb05-4481bd4cbc74"
      },
      "execution_count": null,
      "outputs": [
        {
          "output_type": "stream",
          "name": "stdout",
          "text": [
            "<class 'pandas.core.frame.DataFrame'>\n",
            "RangeIndex: 4238 entries, 0 to 4237\n",
            "Data columns (total 16 columns):\n",
            " #   Column           Non-Null Count  Dtype  \n",
            "---  ------           --------------  -----  \n",
            " 0   male             4238 non-null   int64  \n",
            " 1   age              4238 non-null   int64  \n",
            " 2   education        4133 non-null   float64\n",
            " 3   currentSmoker    4238 non-null   int64  \n",
            " 4   cigsPerDay       4209 non-null   float64\n",
            " 5   BPMeds           4185 non-null   float64\n",
            " 6   prevalentStroke  4238 non-null   int64  \n",
            " 7   prevalentHyp     4238 non-null   int64  \n",
            " 8   diabetes         4238 non-null   int64  \n",
            " 9   totChol          4188 non-null   float64\n",
            " 10  sysBP            4238 non-null   float64\n",
            " 11  diaBP            4238 non-null   float64\n",
            " 12  BMI              4219 non-null   float64\n",
            " 13  heartRate        4237 non-null   float64\n",
            " 14  glucose          3850 non-null   float64\n",
            " 15  TenYearCHD       4238 non-null   int64  \n",
            "dtypes: float64(9), int64(7)\n",
            "memory usage: 529.9 KB\n"
          ]
        }
      ]
    },
    {
      "cell_type": "code",
      "source": [
        "Data.drop(['education'], axis=1, inplace=True)\n",
        "Data.isnull().sum()\n",
        "\n",
        "Data.dropna(axis = 0, inplace = True)\n",
        "print(Data.shape[0])\n",
        "Data.isnull().sum()"
      ],
      "metadata": {
        "colab": {
          "base_uri": "https://localhost:8080/",
          "height": 571
        },
        "id": "zqSv3kvCUK-b",
        "outputId": "eeedcace-edb4-4cae-ebdf-9af5d7c3367d"
      },
      "execution_count": null,
      "outputs": [
        {
          "output_type": "stream",
          "name": "stdout",
          "text": [
            "3749\n"
          ]
        },
        {
          "output_type": "execute_result",
          "data": {
            "text/plain": [
              "male               0\n",
              "age                0\n",
              "currentSmoker      0\n",
              "cigsPerDay         0\n",
              "BPMeds             0\n",
              "prevalentStroke    0\n",
              "prevalentHyp       0\n",
              "diabetes           0\n",
              "totChol            0\n",
              "sysBP              0\n",
              "diaBP              0\n",
              "BMI                0\n",
              "heartRate          0\n",
              "glucose            0\n",
              "TenYearCHD         0\n",
              "dtype: int64"
            ],
            "text/html": [
              "<div>\n",
              "<style scoped>\n",
              "    .dataframe tbody tr th:only-of-type {\n",
              "        vertical-align: middle;\n",
              "    }\n",
              "\n",
              "    .dataframe tbody tr th {\n",
              "        vertical-align: top;\n",
              "    }\n",
              "\n",
              "    .dataframe thead th {\n",
              "        text-align: right;\n",
              "    }\n",
              "</style>\n",
              "<table border=\"1\" class=\"dataframe\">\n",
              "  <thead>\n",
              "    <tr style=\"text-align: right;\">\n",
              "      <th></th>\n",
              "      <th>0</th>\n",
              "    </tr>\n",
              "  </thead>\n",
              "  <tbody>\n",
              "    <tr>\n",
              "      <th>male</th>\n",
              "      <td>0</td>\n",
              "    </tr>\n",
              "    <tr>\n",
              "      <th>age</th>\n",
              "      <td>0</td>\n",
              "    </tr>\n",
              "    <tr>\n",
              "      <th>currentSmoker</th>\n",
              "      <td>0</td>\n",
              "    </tr>\n",
              "    <tr>\n",
              "      <th>cigsPerDay</th>\n",
              "      <td>0</td>\n",
              "    </tr>\n",
              "    <tr>\n",
              "      <th>BPMeds</th>\n",
              "      <td>0</td>\n",
              "    </tr>\n",
              "    <tr>\n",
              "      <th>prevalentStroke</th>\n",
              "      <td>0</td>\n",
              "    </tr>\n",
              "    <tr>\n",
              "      <th>prevalentHyp</th>\n",
              "      <td>0</td>\n",
              "    </tr>\n",
              "    <tr>\n",
              "      <th>diabetes</th>\n",
              "      <td>0</td>\n",
              "    </tr>\n",
              "    <tr>\n",
              "      <th>totChol</th>\n",
              "      <td>0</td>\n",
              "    </tr>\n",
              "    <tr>\n",
              "      <th>sysBP</th>\n",
              "      <td>0</td>\n",
              "    </tr>\n",
              "    <tr>\n",
              "      <th>diaBP</th>\n",
              "      <td>0</td>\n",
              "    </tr>\n",
              "    <tr>\n",
              "      <th>BMI</th>\n",
              "      <td>0</td>\n",
              "    </tr>\n",
              "    <tr>\n",
              "      <th>heartRate</th>\n",
              "      <td>0</td>\n",
              "    </tr>\n",
              "    <tr>\n",
              "      <th>glucose</th>\n",
              "      <td>0</td>\n",
              "    </tr>\n",
              "    <tr>\n",
              "      <th>TenYearCHD</th>\n",
              "      <td>0</td>\n",
              "    </tr>\n",
              "  </tbody>\n",
              "</table>\n",
              "</div><br><label><b>dtype:</b> int64</label>"
            ]
          },
          "metadata": {},
          "execution_count": 4
        }
      ]
    },
    {
      "cell_type": "code",
      "source": [
        "Y = Data.TenYearCHD.values\n",
        "X = Data.drop(['TenYearCHD'], axis = 1)"
      ],
      "metadata": {
        "id": "8ARzw0Q7UK5x"
      },
      "execution_count": null,
      "outputs": []
    },
    {
      "cell_type": "code",
      "source": [
        "sc= StandardScaler()\n",
        "X = sc.fit_transform(X)\n"
      ],
      "metadata": {
        "id": "QVBU-FtCUK3Z"
      },
      "execution_count": null,
      "outputs": []
    },
    {
      "cell_type": "code",
      "source": [
        "X_train, X_test, Y_train, Y_test = train_test_split(X, Y, test_size=0.2, random_state=42)\n",
        "\n",
        "X_train = X_train.T\n",
        "X_test = X_test.T\n",
        "Y_train = Y_train.T\n",
        "Y_test = Y_test.T\n",
        "\n",
        "print(X_train.shape)\n",
        "print(Y_train.shape)\n",
        "print(Y_test.shape)"
      ],
      "metadata": {
        "colab": {
          "base_uri": "https://localhost:8080/"
        },
        "id": "CSY_-xYhUKzI",
        "outputId": "c1040566-af4c-4470-d849-936baab96023"
      },
      "execution_count": null,
      "outputs": [
        {
          "output_type": "stream",
          "name": "stdout",
          "text": [
            "(14, 2999)\n",
            "(2999,)\n",
            "(750,)\n"
          ]
        }
      ]
    },
    {
      "cell_type": "code",
      "source": [
        "###Initialize the weights and bias\n",
        "def initialize_W_b_with_zeros(num_features):\n",
        "    w = np.zeros(shape = (num_features,1))\n",
        "    b = 0\n",
        "    return w,b"
      ],
      "metadata": {
        "id": "GlGEkfNDUKw5"
      },
      "execution_count": null,
      "outputs": []
    },
    {
      "cell_type": "code",
      "source": [
        "\n",
        "def sigmoid(z):\n",
        "    s = 1/(1+ np.exp(-z))\n",
        "\n",
        "    return s"
      ],
      "metadata": {
        "id": "aJ2wFoBnVrQx"
      },
      "execution_count": 18,
      "outputs": []
    },
    {
      "cell_type": "code",
      "source": [
        "def propagate(w,b, X,Y):\n",
        "\n",
        "    m = X.shape[1]\n",
        "    z = np.dot(w.T, X) + b\n",
        "    A = sigmoid(z)\n",
        "\n",
        "    loss =  - (Y * np.log(A) + (1-Y) * np.log( 1-A) )\n",
        "    cost=  np.sum(loss)/m\n",
        "\n",
        "    dw = (1 / m) * np.dot(X, (A-Y).T)\n",
        "    db = (1 / m) * np.sum(A-Y)\n",
        "\n",
        "    gradient= {\"dw\": dw,\n",
        "             \"db\": db}\n",
        "\n",
        "    return gradient, cost"
      ],
      "metadata": {
        "id": "ipmEqIF1VrFT"
      },
      "execution_count": 19,
      "outputs": []
    },
    {
      "cell_type": "code",
      "source": [
        "def update(w,b, X,Y, num_iterations, learning_rate):\n",
        "\n",
        "    costs = []\n",
        "\n",
        "    for i in range( num_iterations ):\n",
        "        gradient, cost = propagate(w,b, X,Y)\n",
        "\n",
        "        dw = gradient['dw']\n",
        "        db = gradient['db']\n",
        "\n",
        "        w = w - learning_rate * dw\n",
        "        b = b - learning_rate * db\n",
        "\n",
        "        if i % 20 == 0:\n",
        "            costs.append(cost)\n",
        "\n",
        "    parameters = {\"w\": w,\n",
        "                 \"b\": b}\n",
        "\n",
        "    gradient= {\"dw\": dw,\n",
        "             \"db\": db}\n",
        "\n",
        "    return parameters, gradient, costs"
      ],
      "metadata": {
        "id": "o0Pe5Fp_VzVF"
      },
      "execution_count": 20,
      "outputs": []
    },
    {
      "cell_type": "code",
      "source": [
        "def predict( w,b,X):\n",
        "    m = X.shape[1]\n",
        "    Y_prediction = np.zeros((1,m))\n",
        "    w = w.reshape(X.shape[0], 1)\n",
        "\n",
        "    A = sigmoid( np.dot(w.T , X) + b)\n",
        "\n",
        "    for i in range(A.shape[1]):\n",
        "        if A[:,i] > 0.5 :\n",
        "              Y_prediction[:,i] = 1\n",
        "\n",
        "    return Y_prediction"
      ],
      "metadata": {
        "id": "-yEO5VbRVzPa"
      },
      "execution_count": 21,
      "outputs": []
    },
    {
      "cell_type": "code",
      "source": [
        "def Logistic_Regression_model(X_train, X_test, Y_train, Y_test,num_iterations, learning_rate ):\n",
        "    num_features = X_train.shape[0]\n",
        "    w,b = initialize_W_b_with_zeros(num_features)\n",
        "    parameters, gradient, costs = update(w,b, X_train,Y_train, num_iterations, learning_rate)\n",
        "\n",
        "    w = parameters[\"w\"]\n",
        "    b = parameters[\"b\"]\n",
        "\n",
        "    Y_Test_Predict = predict(w,b, X_test)\n",
        "\n",
        "    print(\"test accuracy: {} %\".format(100 - np.mean(np.abs(Y_Test_Predict - Y_test)) * 100))\n",
        "\n",
        "\n",
        "    Dictionary = {\"Prediction \": Y_Test_Predict,\n",
        "                \"Weight\": w,\n",
        "                \"Bias\" :b,\n",
        "                \"Cost Function\" : costs}\n",
        "\n",
        "    return Dictionary"
      ],
      "metadata": {
        "id": "Jwqig0K3Vy7k"
      },
      "execution_count": 22,
      "outputs": []
    },
    {
      "cell_type": "code",
      "source": [
        "Dictionary = Logistic_Regression_model(X_train, X_test, Y_train, Y_test, num_iterations = 1000, learning_rate = 0.10 )"
      ],
      "metadata": {
        "id": "GkJUSLE8Vy46"
      },
      "execution_count": null,
      "outputs": []
    },
    {
      "source": [
        "# Previous code...\n",
        "# %%\n",
        "# Initialize and run the logistic regression model\n",
        "Dictionary = Logistic_Regression_model(X_train, X_test, Y_train, Y_test, num_iterations = 1000, learning_rate = 0.10 )\n",
        "\n",
        "# %%\n",
        "# Plot learning curve (with costs)\n",
        "import matplotlib.pyplot as plt\n",
        "costs = np.squeeze(Dictionary['Cost Function']) # Dictionary is now defined and accessible\n",
        "plt.plot(costs)\n",
        "plt.ylabel('cost')\n",
        "plt.xlabel('iterations')\n",
        "plt.title(\"Cost Reduction\")\n",
        "plt.show()"
      ],
      "cell_type": "code",
      "metadata": {
        "colab": {
          "base_uri": "https://localhost:8080/",
          "height": 489
        },
        "id": "RvhiJSyYW0-C",
        "outputId": "05bbc4ef-313c-4b7d-a41e-2dd40c50f36b"
      },
      "execution_count": 23,
      "outputs": [
        {
          "output_type": "stream",
          "name": "stdout",
          "text": [
            "test accuracy: 84.4 %\n"
          ]
        },
        {
          "output_type": "display_data",
          "data": {
            "text/plain": [
              "<Figure size 640x480 with 1 Axes>"
            ],
            "image/png": "[encoded data removed]"
          },
          "metadata": {}
        }
      ]
    },
    {
      "cell_type": "code",
      "source": [
        "from sklearn.linear_model import LogisticRegression\n",
        "lr = LogisticRegression()\n",
        "lr.fit(X_train.T,Y_train.T)\n",
        "print(\"test accuracy {}\".format(lr.score(X_test.T,Y_test.T)))"
      ],
      "metadata": {
        "colab": {
          "base_uri": "https://localhost:8080/"
        },
        "id": "KVASUL5lWC_s",
        "outputId": "5049bcdf-2766-4af0-f7c9-3aefca568e74"
      },
      "execution_count": 24,
      "outputs": [
        {
          "output_type": "stream",
          "name": "stdout",
          "text": [
            "test accuracy 0.844\n"
          ]
        }
      ]
    }
  ]
}